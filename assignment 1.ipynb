{
 "cells": [
  {
   "cell_type": "code",
   "execution_count": 1,
   "id": "de3eac18-cae2-4294-acb2-46f717e34105",
   "metadata": {},
   "outputs": [
    {
     "name": "stdout",
     "output_type": "stream",
     "text": [
      "<class 'str'>\n",
      "<class 'list'>\n",
      "<class 'float'>\n",
      "<class 'tuple'>\n"
     ]
    }
   ],
   "source": [
    "a ='skill'\n",
    "b =[12,15,14]\n",
    "c =14.21\n",
    "d =(14,21,[14,58])\n",
    "print(type(a))\n",
    "print(type(b))\n",
    "print(type(c))\n",
    "print(type(d))"
   ]
  },
  {
   "cell_type": "code",
   "execution_count": 5,
   "id": "b57c8bf0-d6b9-4edd-b37b-26433d03e40b",
   "metadata": {},
   "outputs": [
    {
     "name": "stdout",
     "output_type": "stream",
     "text": [
      "<class 'str'>\n",
      "<class 'str'>\n",
      "<class 'list'>\n",
      "<class 'int'>\n"
     ]
    }
   ],
   "source": [
    "var1=' '\n",
    "var2='[DS , ML , Python]'\n",
    "var3=['DS' , 'ML' ,'Python']\n",
    "var4=1\n",
    "print(type(var1))\n",
    "print(type(var2))\n",
    "print(type(var3))\n",
    "print(type(var4))"
   ]
  },
  {
   "cell_type": "code",
   "execution_count": 22,
   "id": "de8015f9-abd2-42e4-9a6b-e952dca0cf96",
   "metadata": {},
   "outputs": [
    {
     "name": "stdout",
     "output_type": "stream",
     "text": [
      "0.5\n"
     ]
    }
   ],
   "source": [
    "a = 10\n",
    "b = 20\n",
    "print(a/b)\n",
    "# / is division operator used for division"
   ]
  },
  {
   "cell_type": "code",
   "execution_count": 21,
   "id": "f56d5b66-c52b-4e46-bd65-e00ff2ce1322",
   "metadata": {},
   "outputs": [
    {
     "name": "stdout",
     "output_type": "stream",
     "text": [
      "9\n"
     ]
    }
   ],
   "source": [
    "a = 3\n",
    "b = 2\n",
    "print(a**b)\n",
    "# ** is a power opertor `"
   ]
  },
  {
   "cell_type": "code",
   "execution_count": 20,
   "id": "045dbfc5-9109-470e-8687-ac781aded13c",
   "metadata": {},
   "outputs": [
    {
     "name": "stdout",
     "output_type": "stream",
     "text": [
      "3\n"
     ]
    }
   ],
   "source": [
    "a =10\n",
    "b =3\n",
    "print(a//b)\n",
    "# // is a floor division operator"
   ]
  },
  {
   "cell_type": "code",
   "execution_count": 19,
   "id": "994a8066-9566-41d6-841f-97d777cabc49",
   "metadata": {},
   "outputs": [
    {
     "name": "stdout",
     "output_type": "stream",
     "text": [
      "1\n"
     ]
    }
   ],
   "source": [
    "a = 5\n",
    "b = 2\n",
    "print(a%b)\n",
    "#% is modulo operator operator used to show reminder."
   ]
  },
  {
   "cell_type": "code",
   "execution_count": 18,
   "id": "6ba9c169-a923-4baf-aa0f-14ffd9f83593",
   "metadata": {},
   "outputs": [
    {
     "name": "stdout",
     "output_type": "stream",
     "text": [
      "<class 'int'>\n",
      "1\n",
      "<class 'int'>\n",
      "2\n",
      "<class 'int'>\n",
      "3\n",
      "<class 'int'>\n",
      "4\n",
      "<class 'str'>\n",
      "pw\n",
      "<class 'float'>\n",
      "25.32\n",
      "<class 'str'>\n",
      "skill\n",
      "<class 'int'>\n",
      "7\n",
      "<class 'int'>\n",
      "8\n",
      "<class 'float'>\n",
      "54.1\n"
     ]
    }
   ],
   "source": [
    "a = [ 1,2,3,4,\"pw\",25.32,\"skill\",7,8,54.10]\n",
    "for i in a :\n",
    "    print(type(i))\n",
    "    print(i)"
   ]
  },
  {
   "cell_type": "code",
   "execution_count": 17,
   "id": "7ac7b62b-2cd3-413d-9df7-f147deeb5bbc",
   "metadata": {},
   "outputs": [
    {
     "name": "stdout",
     "output_type": "stream",
     "text": [
      "a is purely divisible by b\n",
      "5.0\n"
     ]
    }
   ],
   "source": [
    "a=15\n",
    "b=3\n",
    "while a%b == 0:\n",
    "    print(\"a is purely divisible by b\")\n",
    "    print(a/b)\n",
    "    break\n",
    "else :\n",
    "    print (\"a is not divisible by b\")"
   ]
  },
  {
   "cell_type": "code",
   "execution_count": 16,
   "id": "d5031fb3-550f-4a7b-b70f-4504e4e31b94",
   "metadata": {},
   "outputs": [
    {
     "name": "stdout",
     "output_type": "stream",
     "text": [
      "1  is not divisible by 3\n",
      "2  is not divisible by 3\n",
      "3  is divisible by 3\n",
      "4  is not divisible by 3\n",
      "5  is not divisible by 3\n",
      "6  is divisible by 3\n",
      "7  is not divisible by 3\n",
      "8  is not divisible by 3\n",
      "9  is divisible by 3\n",
      "10  is not divisible by 3\n",
      "11  is not divisible by 3\n",
      "12  is divisible by 3\n",
      "13  is not divisible by 3\n",
      "14  is not divisible by 3\n",
      "15  is divisible by 3\n",
      "16  is not divisible by 3\n",
      "17  is not divisible by 3\n",
      "18  is divisible by 3\n",
      "19  is not divisible by 3\n",
      "20  is not divisible by 3\n",
      "21  is divisible by 3\n",
      "22  is not divisible by 3\n",
      "23  is not divisible by 3\n",
      "24  is divisible by 3\n",
      "25  is not divisible by 3\n"
     ]
    }
   ],
   "source": [
    "a = [1,2,3,4,5,6,7,8,9,10,11,12,13,14,15,16,17,18,19,20,21,22,23,24,25]\n",
    "for i in a:\n",
    "    if i%3== 0:\n",
    "        \n",
    "        print(i,\" is divisible by 3\")\n",
    "        \n",
    "    else:\n",
    "        \n",
    "        print (i,\" is not divisible by 3\")"
   ]
  },
  {
   "cell_type": "code",
   "execution_count": 28,
   "id": "604d352f-0be1-4497-a3e4-f64441143dcb",
   "metadata": {},
   "outputs": [
    {
     "name": "stdout",
     "output_type": "stream",
     "text": [
      "[1, 2, 6, 5]\n",
      "[1, 2, 100, 5]\n",
      "skills\n"
     ]
    },
    {
     "ename": "NameError",
     "evalue": "name 'w' is not defined",
     "output_type": "error",
     "traceback": [
      "\u001b[0;31m---------------------------------------------------------------------------\u001b[0m",
      "\u001b[0;31mNameError\u001b[0m                                 Traceback (most recent call last)",
      "Cell \u001b[0;32mIn[28], line 13\u001b[0m\n\u001b[1;32m     11\u001b[0m \u001b[38;5;28mprint\u001b[39m(a)\n\u001b[1;32m     12\u001b[0m a[\u001b[38;5;241m2\u001b[39m]\n\u001b[0;32m---> 13\u001b[0m a[\u001b[38;5;241m2\u001b[39m]\u001b[38;5;241m=\u001b[39m\u001b[43mw\u001b[49m\n\u001b[1;32m     14\u001b[0m \u001b[38;5;28mprint\u001b[39m(a)\n",
      "\u001b[0;31mNameError\u001b[0m: name 'w' is not defined"
     ]
    }
   ],
   "source": [
    "#mutable and immutable\n",
    "#The main difference between mutable and immutable objects in Python is that mutable objects can be modified or changed after their creation\n",
    "#but the immutable objects can not be modified after their creation\n",
    "a = [1,2,6,5]\n",
    "print(a)\n",
    "a[2]\n",
    "a[2]= 100\n",
    "print(a)\n",
    "#so the value is changed means it is mutable\n",
    "a = 'skills'\n",
    "print(a)\n",
    "a[2]\n",
    "a[2]=w\n",
    "print(a)\n",
    "# the value is not changed so it is immutable\n"
   ]
  },
  {
   "cell_type": "code",
   "execution_count": null,
   "id": "dae352c5-98ae-4aab-857f-f90007ec17ac",
   "metadata": {},
   "outputs": [],
   "source": []
  }
 ],
 "metadata": {
  "kernelspec": {
   "display_name": "Python 3 (ipykernel)",
   "language": "python",
   "name": "python3"
  },
  "language_info": {
   "codemirror_mode": {
    "name": "ipython",
    "version": 3
   },
   "file_extension": ".py",
   "mimetype": "text/x-python",
   "name": "python",
   "nbconvert_exporter": "python",
   "pygments_lexer": "ipython3",
   "version": "3.10.8"
  }
 },
 "nbformat": 4,
 "nbformat_minor": 5
}
